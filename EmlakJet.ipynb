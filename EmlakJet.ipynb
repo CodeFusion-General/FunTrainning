{
 "cells": [
  {
   "cell_type": "code",
   "execution_count": 5,
   "metadata": {},
   "outputs": [],
   "source": [
    "from selenium import webdriver\n",
    "import time\n",
    "\n"
   ]
  },
  {
   "cell_type": "code",
   "execution_count": 6,
   "metadata": {},
   "outputs": [
    {
     "name": "stderr",
     "output_type": "stream",
     "text": [
      "C:\\Users\\sogut\\AppData\\Local\\Temp\\ipykernel_8900\\2471820161.py:7: DeprecationWarning: executable_path has been deprecated, please pass in a Service object\n",
      "  browser = webdriver.Chrome(driver_path)\n"
     ]
    },
    {
     "ename": "NoSuchElementException",
     "evalue": "Message: no such element: Unable to locate element: {\"method\":\"xpath\",\"selector\":\"//*[@id=listing-search-wrapper]/div[1]/div[1]\"}\n  (Session info: chrome=108.0.5359.125)\nStacktrace:\nBacktrace:\n\t(No symbol) [0x009DF243]\n\t(No symbol) [0x00967FD1]\n\t(No symbol) [0x0085D04D]\n\t(No symbol) [0x0088C0B0]\n\t(No symbol) [0x0088C22B]\n\t(No symbol) [0x008BE612]\n\t(No symbol) [0x008A85D4]\n\t(No symbol) [0x008BC9EB]\n\t(No symbol) [0x008A8386]\n\t(No symbol) [0x0088163C]\n\t(No symbol) [0x0088269D]\n\tGetHandleVerifier [0x00C79A22+2655074]\n\tGetHandleVerifier [0x00C6CA24+2601828]\n\tGetHandleVerifier [0x00A88C0A+619850]\n\tGetHandleVerifier [0x00A87830+614768]\n\t(No symbol) [0x009705FC]\n\t(No symbol) [0x00975968]\n\t(No symbol) [0x00975A55]\n\t(No symbol) [0x0098051B]\n\tBaseThreadInitThunk [0x776C00F9+25]\n\tRtlGetAppContainerNamedObjectPath [0x778D7BBE+286]\n\tRtlGetAppContainerNamedObjectPath [0x778D7B8E+238]\n",
     "output_type": "error",
     "traceback": [
      "\u001b[1;31m---------------------------------------------------------------------------\u001b[0m",
      "\u001b[1;31mNoSuchElementException\u001b[0m                    Traceback (most recent call last)",
      "Cell \u001b[1;32mIn [6], line 10\u001b[0m\n\u001b[0;32m      7\u001b[0m browser \u001b[39m=\u001b[39m webdriver\u001b[39m.\u001b[39mChrome(driver_path)\n\u001b[0;32m      8\u001b[0m browser\u001b[39m.\u001b[39mget(\u001b[39m\"\u001b[39m\u001b[39mhttps://www.emlakjet.com/satilik-konut/istanbul/\u001b[39m\u001b[39m\"\u001b[39m)\n\u001b[1;32m---> 10\u001b[0m elements \u001b[39m=\u001b[39m browser\u001b[39m.\u001b[39;49mfind_element(By\u001b[39m.\u001b[39;49mXPATH,\u001b[39m\"\u001b[39;49m\u001b[39m//*[@id=\u001b[39;49m\u001b[39m\"\u001b[39;49m\u001b[39m'\u001b[39;49m\u001b[39mlisting-search-wrapper\u001b[39;49m\u001b[39m'\u001b[39;49m\u001b[39m\"\u001b[39;49m\u001b[39m]/div[1]/div[1]\u001b[39;49m\u001b[39m\"\u001b[39;49m)\n\u001b[0;32m     12\u001b[0m \u001b[39mprint\u001b[39m(elements\u001b[39m.\u001b[39mtext)\n",
      "File \u001b[1;32mc:\\Users\\sogut\\Desktop\\MineCamp\\venv\\lib\\site-packages\\selenium\\webdriver\\remote\\webdriver.py:861\u001b[0m, in \u001b[0;36mWebDriver.find_element\u001b[1;34m(self, by, value)\u001b[0m\n\u001b[0;32m    858\u001b[0m     by \u001b[39m=\u001b[39m By\u001b[39m.\u001b[39mCSS_SELECTOR\n\u001b[0;32m    859\u001b[0m     value \u001b[39m=\u001b[39m \u001b[39m'\u001b[39m\u001b[39m[name=\u001b[39m\u001b[39m\"\u001b[39m\u001b[39m%s\u001b[39;00m\u001b[39m\"\u001b[39m\u001b[39m]\u001b[39m\u001b[39m'\u001b[39m \u001b[39m%\u001b[39m value\n\u001b[1;32m--> 861\u001b[0m \u001b[39mreturn\u001b[39;00m \u001b[39mself\u001b[39;49m\u001b[39m.\u001b[39;49mexecute(Command\u001b[39m.\u001b[39;49mFIND_ELEMENT, {\u001b[39m\"\u001b[39;49m\u001b[39musing\u001b[39;49m\u001b[39m\"\u001b[39;49m: by, \u001b[39m\"\u001b[39;49m\u001b[39mvalue\u001b[39;49m\u001b[39m\"\u001b[39;49m: value})[\u001b[39m\"\u001b[39m\u001b[39mvalue\u001b[39m\u001b[39m\"\u001b[39m]\n",
      "File \u001b[1;32mc:\\Users\\sogut\\Desktop\\MineCamp\\venv\\lib\\site-packages\\selenium\\webdriver\\remote\\webdriver.py:444\u001b[0m, in \u001b[0;36mWebDriver.execute\u001b[1;34m(self, driver_command, params)\u001b[0m\n\u001b[0;32m    442\u001b[0m response \u001b[39m=\u001b[39m \u001b[39mself\u001b[39m\u001b[39m.\u001b[39mcommand_executor\u001b[39m.\u001b[39mexecute(driver_command, params)\n\u001b[0;32m    443\u001b[0m \u001b[39mif\u001b[39;00m response:\n\u001b[1;32m--> 444\u001b[0m     \u001b[39mself\u001b[39;49m\u001b[39m.\u001b[39;49merror_handler\u001b[39m.\u001b[39;49mcheck_response(response)\n\u001b[0;32m    445\u001b[0m     response[\u001b[39m\"\u001b[39m\u001b[39mvalue\u001b[39m\u001b[39m\"\u001b[39m] \u001b[39m=\u001b[39m \u001b[39mself\u001b[39m\u001b[39m.\u001b[39m_unwrap_value(response\u001b[39m.\u001b[39mget(\u001b[39m\"\u001b[39m\u001b[39mvalue\u001b[39m\u001b[39m\"\u001b[39m, \u001b[39mNone\u001b[39;00m))\n\u001b[0;32m    446\u001b[0m     \u001b[39mreturn\u001b[39;00m response\n",
      "File \u001b[1;32mc:\\Users\\sogut\\Desktop\\MineCamp\\venv\\lib\\site-packages\\selenium\\webdriver\\remote\\errorhandler.py:249\u001b[0m, in \u001b[0;36mErrorHandler.check_response\u001b[1;34m(self, response)\u001b[0m\n\u001b[0;32m    247\u001b[0m         alert_text \u001b[39m=\u001b[39m value[\u001b[39m\"\u001b[39m\u001b[39malert\u001b[39m\u001b[39m\"\u001b[39m]\u001b[39m.\u001b[39mget(\u001b[39m\"\u001b[39m\u001b[39mtext\u001b[39m\u001b[39m\"\u001b[39m)\n\u001b[0;32m    248\u001b[0m     \u001b[39mraise\u001b[39;00m exception_class(message, screen, stacktrace, alert_text)  \u001b[39m# type: ignore[call-arg]  # mypy is not smart enough here\u001b[39;00m\n\u001b[1;32m--> 249\u001b[0m \u001b[39mraise\u001b[39;00m exception_class(message, screen, stacktrace)\n",
      "\u001b[1;31mNoSuchElementException\u001b[0m: Message: no such element: Unable to locate element: {\"method\":\"xpath\",\"selector\":\"//*[@id=listing-search-wrapper]/div[1]/div[1]\"}\n  (Session info: chrome=108.0.5359.125)\nStacktrace:\nBacktrace:\n\t(No symbol) [0x009DF243]\n\t(No symbol) [0x00967FD1]\n\t(No symbol) [0x0085D04D]\n\t(No symbol) [0x0088C0B0]\n\t(No symbol) [0x0088C22B]\n\t(No symbol) [0x008BE612]\n\t(No symbol) [0x008A85D4]\n\t(No symbol) [0x008BC9EB]\n\t(No symbol) [0x008A8386]\n\t(No symbol) [0x0088163C]\n\t(No symbol) [0x0088269D]\n\tGetHandleVerifier [0x00C79A22+2655074]\n\tGetHandleVerifier [0x00C6CA24+2601828]\n\tGetHandleVerifier [0x00A88C0A+619850]\n\tGetHandleVerifier [0x00A87830+614768]\n\t(No symbol) [0x009705FC]\n\t(No symbol) [0x00975968]\n\t(No symbol) [0x00975A55]\n\t(No symbol) [0x0098051B]\n\tBaseThreadInitThunk [0x776C00F9+25]\n\tRtlGetAppContainerNamedObjectPath [0x778D7BBE+286]\n\tRtlGetAppContainerNamedObjectPath [0x778D7B8E+238]\n"
     ]
    }
   ],
   "source": [
    "\n",
    "from selenium import webdriver\n",
    "import time\n",
    "import pandas as pd\n",
    "from selenium.webdriver.common.by import By\n",
    "\n",
    "driver_path = r\"C:\\Users\\user\\Downloads\\chromedriver_win32\\chromedriver.exe\"\n",
    "browser = webdriver.Chrome(driver_path)\n",
    "browser.get(\"https://www.emlakjet.com/satilik-konut/istanbul/\")\n",
    "\n",
    "elements = browser.find_element(By.XPATH,\"//*[@id=\"'listing-search-wrapper'\"]/div[1]/div[1]\")\n",
    "\n",
    "print(elements.text)"
   ]
  },
  {
   "cell_type": "code",
   "execution_count": null,
   "metadata": {},
   "outputs": [],
   "source": [
    "\"//*[@id=\"'listing-search-wrapper'\"]/div[1]/div[1]\""
   ]
  }
 ],
 "metadata": {
  "kernelspec": {
   "display_name": "venv",
   "language": "python",
   "name": "python3"
  },
  "language_info": {
   "codemirror_mode": {
    "name": "ipython",
    "version": 3
   },
   "file_extension": ".py",
   "mimetype": "text/x-python",
   "name": "python",
   "nbconvert_exporter": "python",
   "pygments_lexer": "ipython3",
   "version": "3.10.9"
  },
  "orig_nbformat": 4,
  "vscode": {
   "interpreter": {
    "hash": "0f2b2a13f02051f2eda7ba0d205c733594a168173e58fba8cf2a1c8893a4a2d1"
   }
  }
 },
 "nbformat": 4,
 "nbformat_minor": 2
}
