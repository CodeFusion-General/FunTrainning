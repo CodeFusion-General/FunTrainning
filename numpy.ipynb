{
 "cells": [
  {
   "cell_type": "code",
   "execution_count": 35,
   "metadata": {},
   "outputs": [],
   "source": [
    "import numpy as np\n",
    "from numpy import loadtxt\n",
    "import pandas as pd"
   ]
  },
  {
   "cell_type": "code",
   "execution_count": 2,
   "metadata": {},
   "outputs": [],
   "source": [
    "a = np.array([1, 2, 3, 4, 5, 6, 7, 8, 9, 10])"
   ]
  },
  {
   "cell_type": "code",
   "execution_count": 3,
   "metadata": {},
   "outputs": [
    {
     "name": "stdout",
     "output_type": "stream",
     "text": [
      "[ 1  2  3  4  5  6  7  8  9 10]\n"
     ]
    }
   ],
   "source": [
    "print(a)"
   ]
  },
  {
   "cell_type": "code",
   "execution_count": 6,
   "metadata": {},
   "outputs": [
    {
     "name": "stdout",
     "output_type": "stream",
     "text": [
      "(10,)\n",
      "int32\n",
      "10\n"
     ]
    }
   ],
   "source": [
    "print(a.shape)\n",
    "print(a.dtype)\n",
    "print(a.size)"
   ]
  },
  {
   "cell_type": "code",
   "execution_count": 8,
   "metadata": {},
   "outputs": [
    {
     "name": "stdout",
     "output_type": "stream",
     "text": [
      "55\n"
     ]
    }
   ],
   "source": [
    "print(a.sum())"
   ]
  },
  {
   "cell_type": "code",
   "execution_count": 11,
   "metadata": {},
   "outputs": [
    {
     "name": "stdout",
     "output_type": "stream",
     "text": [
      "[  1   4   9  16  25  36  49  64  81 100]\n",
      "385\n"
     ]
    }
   ],
   "source": [
    "b = a*np.array([1, 2, 3, 4, 5,6,7,8,9,10])\n",
    "print(b)\n",
    "print(b.sum())"
   ]
  },
  {
   "cell_type": "code",
   "execution_count": 23,
   "metadata": {},
   "outputs": [
    {
     "name": "stdout",
     "output_type": "stream",
     "text": [
      "[[3 6 3 8]\n",
      " [7 3 7 6]\n",
      " [7 9 5 5]\n",
      " [9 9 5 5]]\n"
     ]
    }
   ],
   "source": [
    "c = np.random.randint(3,10,size=(4,4))\n",
    "print(c)\n"
   ]
  },
  {
   "cell_type": "code",
   "execution_count": null,
   "metadata": {},
   "outputs": [],
   "source": []
  },
  {
   "cell_type": "code",
   "execution_count": 36,
   "metadata": {},
   "outputs": [
    {
     "name": "stdout",
     "output_type": "stream",
     "text": [
      "[[ 2  9  4  2]\n",
      " [ 4  2  6 10]\n",
      " [ 6  6  9  4]\n",
      " [ 8  5  3  1]]\n"
     ]
    }
   ],
   "source": [
    "f = np.random.choice([1,2,3,4,5,6,7,8,9,10],size=(4,4))\n",
    "print(f)"
   ]
  },
  {
   "cell_type": "code",
   "execution_count": 72,
   "metadata": {},
   "outputs": [
    {
     "name": "stdout",
     "output_type": "stream",
     "text": [
      "[[1. 2. 3.]\n",
      " [3. 4. 5.]\n",
      " [4. 5. 6.]\n",
      " [5. 6. 7.]\n",
      " [7. 8. 9.]\n",
      " [1. 2. 6.]]\n"
     ]
    }
   ],
   "source": [
    "arr = np.loadtxt(\"C:/Users/sogut/Desktop/Test/124.txt\",delimiter=\",\")\n",
    "print(arr)\n",
    "arr=arr.astype(int)"
   ]
  },
  {
   "cell_type": "code",
   "execution_count": 90,
   "metadata": {},
   "outputs": [
    {
     "name": "stdout",
     "output_type": "stream",
     "text": [
      "[[ 1  2  3  4  5]\n",
      " [ 6  7  8  9 10]]\n",
      "   0  1  2  3   4\n",
      "0  1  2  3  4   5\n",
      "1  6  7  8  9  10\n",
      "[0 2 4 6 8]\n",
      "   0\n",
      "0  0\n",
      "1  2\n",
      "2  4\n",
      "3  6\n",
      "4  8\n"
     ]
    }
   ],
   "source": [
    "import pandas as pd\n",
    "import numpy as np\n",
    "\n",
    "arr = np.arange(1,11).reshape(2,5)\n",
    "print(arr)\n",
    "\n",
    "DF = pd.DataFrame(arr)\n",
    "print(DF)\n",
    "DF.to_csv('C:/Users/sogut/Desktop/Test/arr1.csv',sep=',')\n",
    "\n",
    "arr2 = np.arange(0,10,2)\n",
    "print(arr2)\n",
    "DF = pd.DataFrame(arr2)\n",
    "print(DF)\n",
    "DF.to_csv('C:/Users/sogut/Desktop/Test/arr2.csv',sep=',')\n",
    "\n"
   ]
  },
  {
   "cell_type": "code",
   "execution_count": 94,
   "metadata": {},
   "outputs": [
    {
     "name": "stdout",
     "output_type": "stream",
     "text": [
      "['1,6,4', '3,5,7', '8,9,2', '4,3,1']\n",
      "1,6,4\n",
      "3,5,7\n",
      "8,9,2\n",
      "4,3,1\n"
     ]
    }
   ],
   "source": [
    "import numpy as np\n",
    "import pandas as pd\n",
    "\n",
    "a = np.array([[1,6,4],[3,5,7],[8,9,2],[4,3,1]])\n",
    "\n",
    "rows = [\"{},{},{}\".format(i,j,k) for i,j,k in a]\n",
    "print(rows)\n",
    "text = \"\\n\".join(rows)\n",
    "print(text)\n",
    "\n",
    "with open(\"C:/Users/sogut/Desktop/Test/arr3.csv\",\"w\") as f:\n",
    "    f.write(text)"
   ]
  },
  {
   "cell_type": "code",
   "execution_count": 104,
   "metadata": {},
   "outputs": [
    {
     "name": "stdout",
     "output_type": "stream",
     "text": [
      "a=\n",
      " [[0. 0. 0.]\n",
      " [0. 0. 0.]\n",
      " [0. 0. 0.]]\n"
     ]
    }
   ],
   "source": [
    "a = np.zeros((3,3))\n",
    "print(\"a=\\n\",a)\n"
   ]
  },
  {
   "cell_type": "code",
   "execution_count": 105,
   "metadata": {},
   "outputs": [
    {
     "name": "stdout",
     "output_type": "stream",
     "text": [
      "b=\n",
      " [[1. 1. 1.]\n",
      " [1. 1. 1.]\n",
      " [1. 1. 1.]]\n"
     ]
    }
   ],
   "source": [
    "b = np.ones((3,3))\n",
    "print(\"b=\\n\",b)"
   ]
  },
  {
   "cell_type": "code",
   "execution_count": 106,
   "metadata": {},
   "outputs": [
    {
     "name": "stdout",
     "output_type": "stream",
     "text": [
      "c=\n",
      " [[5 5 5]\n",
      " [5 5 5]\n",
      " [5 5 5]]\n"
     ]
    }
   ],
   "source": [
    "c = np.full((3,3),5)\n",
    "print(\"c=\\n\",c)"
   ]
  },
  {
   "cell_type": "code",
   "execution_count": 107,
   "metadata": {},
   "outputs": [
    {
     "name": "stdout",
     "output_type": "stream",
     "text": [
      "d=\n",
      " [[1. 0. 0.]\n",
      " [0. 1. 0.]\n",
      " [0. 0. 1.]]\n"
     ]
    }
   ],
   "source": [
    "d = np.eye(3)\n",
    "print(\"d=\\n\",d)"
   ]
  },
  {
   "cell_type": "code",
   "execution_count": 109,
   "metadata": {},
   "outputs": [
    {
     "name": "stdout",
     "output_type": "stream",
     "text": [
      "e=\n",
      " [[0.66612444 0.55238328 0.62221177]\n",
      " [0.90859924 0.26518897 0.98837687]\n",
      " [0.65299933 0.30216301 0.04529877]]\n"
     ]
    }
   ],
   "source": [
    "e = np.random.random((3,3))\n",
    "print(\"e=\\n\",e)"
   ]
  },
  {
   "cell_type": "code",
   "execution_count": 111,
   "metadata": {},
   "outputs": [
    {
     "name": "stdout",
     "output_type": "stream",
     "text": [
      "f=\n",
      " [[7 7 4]\n",
      " [0 1 0]\n",
      " [3 8 6]]\n"
     ]
    }
   ],
   "source": [
    "f = np.random.randint(0,10,(3,3))\n",
    "print(\"f=\\n\",f)"
   ]
  },
  {
   "cell_type": "code",
   "execution_count": 114,
   "metadata": {},
   "outputs": [
    {
     "name": "stdout",
     "output_type": "stream",
     "text": [
      "g=  [0 2 4 6 8]\n"
     ]
    }
   ],
   "source": [
    "g = np.arange(0,10,2)\n",
    "print(\"g= \",g)"
   ]
  },
  {
   "cell_type": "code",
   "execution_count": 115,
   "metadata": {},
   "outputs": [
    {
     "name": "stdout",
     "output_type": "stream",
     "text": [
      "h=  [ 0.   2.5  5.   7.5 10. ]\n"
     ]
    }
   ],
   "source": [
    "h = np.linspace(0,10,5)\n",
    "print(\"h= \",h)"
   ]
  },
  {
   "cell_type": "code",
   "execution_count": null,
   "metadata": {},
   "outputs": [],
   "source": []
  }
 ],
 "metadata": {
  "kernelspec": {
   "display_name": "Python 3.10.8 ('venv': venv)",
   "language": "python",
   "name": "python3"
  },
  "language_info": {
   "codemirror_mode": {
    "name": "ipython",
    "version": 3
   },
   "file_extension": ".py",
   "mimetype": "text/x-python",
   "name": "python",
   "nbconvert_exporter": "python",
   "pygments_lexer": "ipython3",
   "version": "3.10.8"
  },
  "orig_nbformat": 4,
  "vscode": {
   "interpreter": {
    "hash": "0f2b2a13f02051f2eda7ba0d205c733594a168173e58fba8cf2a1c8893a4a2d1"
   }
  }
 },
 "nbformat": 4,
 "nbformat_minor": 2
}
