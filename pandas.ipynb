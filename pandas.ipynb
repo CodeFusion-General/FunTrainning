{
 "cells": [
  {
   "cell_type": "code",
   "execution_count": 8,
   "metadata": {},
   "outputs": [
    {
     "name": "stdout",
     "output_type": "stream",
     "text": [
      "0    10\n",
      "1    20\n",
      "2    30\n",
      "3    40\n",
      "4    50\n",
      "dtype: int32\n",
      "num1    10\n",
      "num2    20\n",
      "num3    30\n",
      "num4    40\n",
      "num5    50\n",
      "dtype: int32\n"
     ]
    }
   ],
   "source": [
    "import numpy as np\n",
    "import pandas as pd\n",
    "\n",
    "my_array = np.array([10,20,30,40,50])\n",
    "\n",
    "my_series = pd.Series(my_array)\n",
    "print(my_series)\n",
    "\n",
    "my_series = pd.Series(my_array, index=['num1', 'num2', 'num3', 'num4', 'num5'])\n",
    "print(my_series)\n",
    "\n"
   ]
  },
  {
   "cell_type": "code",
   "execution_count": 9,
   "metadata": {},
   "outputs": [
    {
     "name": "stdout",
     "output_type": "stream",
     "text": [
      "num1    25\n",
      "num2    25\n",
      "num3    25\n",
      "num4    25\n",
      "num5    25\n",
      "dtype: int64\n"
     ]
    }
   ],
   "source": [
    "my_series = pd.Series(25,index=['num1', 'num2', 'num3', 'num4', 'num5'])\n",
    "print(my_series)"
   ]
  },
  {
   "cell_type": "code",
   "execution_count": 13,
   "metadata": {},
   "outputs": [
    {
     "name": "stdout",
     "output_type": "stream",
     "text": [
      "num1    10\n",
      "num2    20\n",
      "num3    30\n",
      "num4    40\n",
      "num5    50\n",
      "num6    60\n",
      "dtype: int64\n"
     ]
    }
   ],
   "source": [
    "my_dict = {'num1':10,'num2':20,'num3':30,'num4':40,'num5':50,'num6':60}\n",
    "my_series = pd.Series(my_dict)\n",
    "print(my_series)\n"
   ]
  },
  {
   "cell_type": "code",
   "execution_count": 20,
   "metadata": {},
   "outputs": [
    {
     "name": "stdout",
     "output_type": "stream",
     "text": [
      "num1    10\n",
      "num2    20\n",
      "num3    30\n",
      "num4    40\n",
      "num5    50\n",
      "num6    60\n",
      "dtype: int64\n",
      "\n",
      "\n",
      "1.series 10\n",
      "2.series num2    20\n",
      "num3    30\n",
      "num4    40\n",
      "dtype: int64\n",
      "30\n"
     ]
    }
   ],
   "source": [
    "import pandas as pd\n",
    "my_series = pd.Series([10,20,30,40,50,60],index = ['num1','num2','num3','num4','num5','num6'])\n",
    "print(my_series)\n",
    "print(\"\\n\")\n",
    "print(\"1.series\",my_series[0])\n",
    "print(\"2.series\",my_series[1:4])\n",
    "print(my_series['num3'])\n",
    "\n"
   ]
  },
  {
   "cell_type": "code",
   "execution_count": 25,
   "metadata": {},
   "outputs": [
    {
     "name": "stdout",
     "output_type": "stream",
     "text": [
      "2\n",
      "35\n",
      "\n",
      "14.571428571428571\n",
      "9.0\n"
     ]
    }
   ],
   "source": [
    "import pandas as pd\n",
    "import numpy as np\n",
    "\n",
    "my_series = pd.Series([5,8,2,11,9,35,32])\n",
    "print(np.min(my_series))\n",
    "print(np.max(my_series))\n",
    "print(\"\")\n",
    "print(np.mean(my_series))\n",
    "print(np.median(my_series))\n",
    "\n"
   ]
  },
  {
   "cell_type": "code",
   "execution_count": 26,
   "metadata": {},
   "outputs": [
    {
     "name": "stdout",
     "output_type": "stream",
     "text": [
      "int64\n"
     ]
    }
   ],
   "source": [
    "print(my_series.dtype)"
   ]
  },
  {
   "cell_type": "code",
   "execution_count": 33,
   "metadata": {},
   "outputs": [
    {
     "name": "stdout",
     "output_type": "stream",
     "text": [
      "0     5\n",
      "1     8\n",
      "2     2\n",
      "3    11\n",
      "4     9\n",
      "5    35\n",
      "6    32\n",
      "dtype: int64\n",
      "\n",
      "3    11\n",
      "5    35\n",
      "6    32\n",
      "dtype: int64\n",
      "\n",
      "0    5\n",
      "1    8\n",
      "2    2\n",
      "4    9\n",
      "dtype: int64\n",
      "\n",
      "[5, 8, 2, 11, 9, 35, 32]\n"
     ]
    }
   ],
   "source": [
    "import pandas as pd\n",
    "import numpy as np\n",
    "my_series = pd.Series([5,8,2,11,9,35,32])\n",
    "print(my_series)\n",
    "print(\"\")\n",
    "print(my_series[my_series>10])\n",
    "print(\"\")\n",
    "print(my_series[my_series<10])\n",
    "print(\"\")\n",
    "\n",
    "print(my_series.tolist())\n"
   ]
  },
  {
   "cell_type": "code",
   "execution_count": 34,
   "metadata": {},
   "outputs": [
    {
     "name": "stdout",
     "output_type": "stream",
     "text": [
      "Empty DataFrame\n",
      "Columns: []\n",
      "Index: []\n"
     ]
    }
   ],
   "source": [
    "import pandas as pd\n",
    "\n",
    "my_df = pd.DataFrame()\n",
    "print(my_df)"
   ]
  },
  {
   "cell_type": "code",
   "execution_count": 36,
   "metadata": {},
   "outputs": [
    {
     "name": "stdout",
     "output_type": "stream",
     "text": [
      "   Subject  Score\n",
      "0     Math     80\n",
      "1  English     90\n",
      "2  Science     95\n"
     ]
    }
   ],
   "source": [
    "scores = [['Math', 80], ['English', 90], ['Science', 95]]\n",
    "my_df = pd.DataFrame(scores, columns=['Subject', 'Score'])\n",
    "print(my_df)"
   ]
  },
  {
   "cell_type": "code",
   "execution_count": 40,
   "metadata": {},
   "outputs": [
    {
     "name": "stdout",
     "output_type": "stream",
     "text": [
      "     Subject  Score\n",
      "0   Istanbul     34\n",
      "1      Izmir     33\n",
      "2     Ankara      6\n",
      "3      Bursa     16\n",
      "4    Antalya      7\n",
      "5     Batman     72\n",
      "6     Mardin     47\n",
      "7       Kars     12\n",
      "8  Kastamonu     15\n",
      "9  Kırıkkale      9\n"
     ]
    }
   ],
   "source": [
    "plate = {'Subject' : ['Istanbul', 'Izmir', 'Ankara', 'Bursa', 'Antalya','Batman','Mardin','Kars','Kastamonu','Kırıkkale'],\n",
    "         'Score' : [34, 33, 6, 16, 7,72,47,12,15,9]}\n",
    "\n",
    "my_df = pd.DataFrame(plate)\n",
    "print(my_df)\n"
   ]
  },
  {
   "cell_type": "code",
   "execution_count": 42,
   "metadata": {},
   "outputs": [
    {
     "name": "stdout",
     "output_type": "stream",
     "text": [
      "   Subject  Score\n",
      "0     Math     80\n",
      "1  English     90\n",
      "2  Science     95\n",
      "3      NaN     72\n",
      "4     Arts     99\n"
     ]
    }
   ],
   "source": [
    "import pandas as pd\n",
    "scores = [\n",
    "    {'Subject': 'Math', 'Score': 80},\n",
    "    {'Subject': 'English', 'Score': 90},\n",
    "    {'Subject': 'Science', 'Score': 95},\n",
    "    {'Score':72},\n",
    "    {'Subject': 'Arts', 'Score':99}\n",
    "    ]\n",
    "my_df = pd.DataFrame(scores)\n",
    "print(my_df)\n"
   ]
  },
  {
   "cell_type": "code",
   "execution_count": 49,
   "metadata": {},
   "outputs": [
    {
     "name": "stdout",
     "output_type": "stream",
     "text": [
      "   Subject  Score\n",
      "0     Math     80\n",
      "1  English     90\n",
      "\n",
      "  Subject  Score\n",
      "3     NaN     72\n",
      "4    Arts     99\n",
      "\n",
      "   Subject  Score\n",
      "1  English     90\n",
      "4     Arts     99\n",
      "\n",
      "<class 'pandas.core.frame.DataFrame'>\n",
      "RangeIndex: 5 entries, 0 to 4\n",
      "Data columns (total 2 columns):\n",
      " #   Column   Non-Null Count  Dtype \n",
      "---  ------   --------------  ----- \n",
      " 0   Subject  4 non-null      object\n",
      " 1   Score    5 non-null      int64 \n",
      "dtypes: int64(1), object(1)\n",
      "memory usage: 208.0+ bytes\n",
      "None\n",
      "           Score\n",
      "count   5.000000\n",
      "mean   87.200000\n",
      "std    11.077003\n",
      "min    72.000000\n",
      "25%    80.000000\n",
      "50%    90.000000\n",
      "75%    95.000000\n",
      "max    99.000000\n"
     ]
    }
   ],
   "source": [
    "import pandas as pd\n",
    "scores = [\n",
    "    {'Subject': 'Math', 'Score': 80},\n",
    "    {'Subject': 'English', 'Score': 90},\n",
    "    {'Subject': 'Science', 'Score': 95},\n",
    "    {'Score':72},\n",
    "    {'Subject': 'Arts', 'Score':99}\n",
    "    ]\n",
    "my_df = pd.DataFrame(scores)\n",
    "#first 2\n",
    "print(my_df.head(2))\n",
    "print(\"\")\n",
    "#last 2\n",
    "print(my_df.tail(2))\n",
    "print(\"\")\n",
    "print(my_df.sample(2))\n",
    "print(\"\")\n",
    "print(my_df.info())\n",
    "print(my_df.describe())\n",
    "\n"
   ]
  },
  {
   "cell_type": "code",
   "execution_count": null,
   "metadata": {},
   "outputs": [],
   "source": []
  }
 ],
 "metadata": {
  "kernelspec": {
   "display_name": "Python 3.10.8 ('venv': venv)",
   "language": "python",
   "name": "python3"
  },
  "language_info": {
   "codemirror_mode": {
    "name": "ipython",
    "version": 3
   },
   "file_extension": ".py",
   "mimetype": "text/x-python",
   "name": "python",
   "nbconvert_exporter": "python",
   "pygments_lexer": "ipython3",
   "version": "3.10.8 (tags/v3.10.8:aaaf517, Oct 11 2022, 16:50:30) [MSC v.1933 64 bit (AMD64)]"
  },
  "orig_nbformat": 4,
  "vscode": {
   "interpreter": {
    "hash": "0f2b2a13f02051f2eda7ba0d205c733594a168173e58fba8cf2a1c8893a4a2d1"
   }
  }
 },
 "nbformat": 4,
 "nbformat_minor": 2
}
